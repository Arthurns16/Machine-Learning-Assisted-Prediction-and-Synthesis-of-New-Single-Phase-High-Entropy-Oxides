{
  "nbformat": 4,
  "nbformat_minor": 0,
  "metadata": {
    "colab": {
      "provenance": []
    },
    "kernelspec": {
      "name": "python3",
      "display_name": "Python 3"
    },
    "language_info": {
      "name": "python"
    }
  },
  "cells": [
    {
      "cell_type": "code",
      "source": [
        "pip install scikit-learn==1.2.2"
      ],
      "metadata": {
        "colab": {
          "base_uri": "https://localhost:8080/"
        },
        "id": "gD9uIW9I78gF",
        "outputId": "6d12bcfe-4446-4771-98f4-5c5a159af1b4"
      },
      "execution_count": null,
      "outputs": [
        {
          "output_type": "stream",
          "name": "stdout",
          "text": [
            "Collecting scikit-learn==1.2.2\n",
            "  Downloading scikit_learn-1.2.2-cp310-cp310-manylinux_2_17_x86_64.manylinux2014_x86_64.whl.metadata (11 kB)\n",
            "Requirement already satisfied: numpy>=1.17.3 in /usr/local/lib/python3.10/dist-packages (from scikit-learn==1.2.2) (1.26.4)\n",
            "Requirement already satisfied: scipy>=1.3.2 in /usr/local/lib/python3.10/dist-packages (from scikit-learn==1.2.2) (1.13.1)\n",
            "Requirement already satisfied: joblib>=1.1.1 in /usr/local/lib/python3.10/dist-packages (from scikit-learn==1.2.2) (1.4.2)\n",
            "Requirement already satisfied: threadpoolctl>=2.0.0 in /usr/local/lib/python3.10/dist-packages (from scikit-learn==1.2.2) (3.5.0)\n",
            "Downloading scikit_learn-1.2.2-cp310-cp310-manylinux_2_17_x86_64.manylinux2014_x86_64.whl (9.6 MB)\n",
            "\u001b[2K   \u001b[90m━━━━━━━━━━━━━━━━━━━━━━━━━━━━━━━━━━━━━━━━\u001b[0m \u001b[32m9.6/9.6 MB\u001b[0m \u001b[31m27.5 MB/s\u001b[0m eta \u001b[36m0:00:00\u001b[0m\n",
            "\u001b[?25hInstalling collected packages: scikit-learn\n",
            "  Attempting uninstall: scikit-learn\n",
            "    Found existing installation: scikit-learn 1.5.2\n",
            "    Uninstalling scikit-learn-1.5.2:\n",
            "      Successfully uninstalled scikit-learn-1.5.2\n",
            "\u001b[31mERROR: pip's dependency resolver does not currently take into account all the packages that are installed. This behaviour is the source of the following dependency conflicts.\n",
            "mlxtend 0.23.2 requires scikit-learn>=1.3.1, but you have scikit-learn 1.2.2 which is incompatible.\u001b[0m\u001b[31m\n",
            "\u001b[0mSuccessfully installed scikit-learn-1.2.2\n"
          ]
        }
      ]
    },
    {
      "cell_type": "code",
      "source": [
        "import pandas as pd\n",
        "from sklearn.model_selection import train_test_split\n",
        "from sklearn.preprocessing import StandardScaler\n",
        "from sklearn.neural_network import MLPClassifier\n",
        "from sklearn.model_selection import KFold,ShuffleSplit\n",
        "from sklearn.metrics import confusion_matrix, accuracy_score\n",
        "from sklearn.metrics import classification_report\n",
        "from sklearn.ensemble import RandomForestClassifier\n",
        "from sklearn.model_selection import GridSearchCV\n",
        "from sklearn.model_selection import cross_val_score\n",
        "from sklearn.linear_model import LogisticRegression\n",
        "from sklearn import svm\n",
        "from sklearn import metrics\n",
        "from sklearn.metrics import precision_score\n",
        "import statistics\n",
        "import seaborn as sns\n",
        "import matplotlib.pyplot as plt\n",
        "import numpy as np\n",
        "\n",
        "#PEARSON PARA ELIMINAR CORRELAÇÃO MAIOR QUE 0.8\n",
        "\n",
        "# Carrega os dados do arquivo Excel\n",
        "dataset = pd.read_excel('Input_Total.xlsx')\n",
        "dataset = dataset.loc[:,dataset.apply(pd.Series.nunique) != 1]\n",
        "dataset = dataset.filter(regex=r'^(?!.*Keq)')\n",
        "\n",
        "#Perason comeca aqui - Correlacao de 0.6\n",
        "dataset = dataset.drop('Classe', axis=1)\n",
        "dataset = dataset.drop('Composto', axis=1)\n",
        "dataset = dataset.drop('Átomos', axis=1)\n",
        "\n",
        "\n",
        "dataframe_pandas_features= dataset\n",
        "\n",
        "print(dataset.columns)\n",
        "corr_matrix = dataset.corr(method ='pearson', numeric_only=True).abs()\n",
        "\n",
        "# Selecionar o triângulo superior da matriz de correlação\n",
        "upper_tri = corr_matrix.where(np.triu(np.ones(corr_matrix.shape), k=1).astype(bool))\n",
        "\n",
        "# Encontrar os índices das colunas com correlação maior que 0.8\n",
        "to_drop = [column for column in upper_tri.columns if any(upper_tri[column] > 0.8)]\n",
        "\n",
        "# Remover apenas a primeira coluna de cada par altamente correlacionado\n",
        "dataset = dataset.drop(to_drop, axis=1)\n",
        "\n",
        "\n",
        "\n",
        "print(len(dataset.columns))\n",
        "print(dataset.columns)\n",
        "#sns.heatmap(correlation,cbar = True,linewidths= 0.5)\n",
        "#plt.savefig('heatmap.png', dpi=1200, bbox_inches='tight')"
      ],
      "metadata": {
        "id": "-XUBkfEWxpZW",
        "colab": {
          "base_uri": "https://localhost:8080/"
        },
        "outputId": "a800ed55-5010-4d04-bd26-2747ae575e65"
      },
      "execution_count": null,
      "outputs": [
        {
          "output_type": "stream",
          "name": "stdout",
          "text": [
            "Index(['atomic_ea_minimo', 'atomic_ea_maximo', 'atomic_ea_soma',\n",
            "       'atomic_ea_media', 'atomic_ea_desvio', 'atomic_en_allen _soma',\n",
            "       'atomic_en_allen _media', 'atomic_en_allen _desvio',\n",
            "       'atomic_en_allredroch_minimo', 'atomic_en_allredroch_soma',\n",
            "       ...\n",
            "       'entropia-oxidos_minimo', 'entropia-oxidos_maximo',\n",
            "       'entropia-oxidos_soma', 'entropia-oxidos_media',\n",
            "       'entropia-oxidos_desvio', 'deltaCp-oxidos_minimo',\n",
            "       'deltaCp-oxidos_maximo', 'deltaCp-oxidos_soma', 'deltaCp-oxidos_media',\n",
            "       'deltaCp-oxidos_desvio'],\n",
            "      dtype='object', length=204)\n",
            "48\n",
            "Index(['atomic_ea_minimo', 'atomic_ea_maximo', 'atomic_ea_soma',\n",
            "       'atomic_ea_media', 'atomic_ea_desvio', 'atomic_en_allen _soma',\n",
            "       'atomic_en_allen _media', 'atomic_en_allen _desvio',\n",
            "       'atomic_en_allredroch_minimo', 'atomic_en_allredroch_soma',\n",
            "       'atomic_en_paul_minimo', 'atomic_hatm_minimo', 'atomic_hatm_maximo',\n",
            "       'atomic_hatm_soma', 'atomic_hatm_media', 'atomic_hatm_desvio',\n",
            "       'atomic_hfu_maximo', 'atomic_hfu_soma', 'atomic_radius_soma',\n",
            "       'atomic_radius_calculated_minimo', 'atomic_radius_calculated_media',\n",
            "       'atomic_spacegroupnum_maximo', 'atomic_spacegroupnum_media',\n",
            "       'atomic_spacegroupnum_desvio', 'brinell_hardness_maximo',\n",
            "       'brinell_hardness_soma', 'bulk_mod_maximo', 'coeff_of_lte_maximo',\n",
            "       'covalent_rad_emp_soma', 'critical_temperature_maximo',\n",
            "       'density_of_solid_soma', 'density_of_solid_media',\n",
            "       'density_of_solid_desvio', 'electrical_resist_maximo',\n",
            "       'mineral_hardness_maximo', 'poissons_ratio_maximo',\n",
            "       'poissons_ratio_soma', 'poissons_ratio_media', 'poissons_ratio_desvio',\n",
            "       'supercond_temp_maximo', 'van_der_waals_rad_minimo',\n",
            "       'vel_of_sound_minimo', 'oxidacao_maximo', 'entalpia-oxidos_maximo',\n",
            "       'electronegativity_ghosh_desvio', 'entropia-oxidos_soma',\n",
            "       'deltaCp-oxidos_minimo', 'deltaCp-oxidos_maximo'],\n",
            "      dtype='object')\n"
          ]
        }
      ]
    },
    {
      "cell_type": "code",
      "source": [
        "#Importar dados e modelo de 204 features\n",
        "\n",
        "import pickle\n",
        "\n",
        "with open('X_trainGB.pickle', 'rb') as f:\n",
        "    X_train = pickle.load(f)\n",
        "\n",
        "with open('y_trainGB.pickle', 'rb') as f:\n",
        "    y_train = pickle.load(f)\n",
        "\n",
        "with open('X_testGB.pickle', 'rb') as f:\n",
        "    X_test = pickle.load(f)\n",
        "\n",
        "with open('y_testGB.pickle', 'rb') as f:\n",
        "    y_test = pickle.load(f)\n",
        "\n",
        "\n",
        "\n",
        "\n",
        "\n",
        "colunas_para_manter = ['atomic_ea_minimo', 'atomic_ea_maximo', 'atomic_ea_soma',\n",
        "       'atomic_ea_media', 'atomic_ea_desvio', 'atomic_en_allen _soma',\n",
        "       'atomic_en_allen _media', 'atomic_en_allen _desvio',\n",
        "       'atomic_en_allredroch_minimo', 'atomic_en_allredroch_soma',\n",
        "       'atomic_en_paul_minimo', 'atomic_hatm_minimo', 'atomic_hatm_maximo',\n",
        "       'atomic_hatm_soma', 'atomic_hatm_media', 'atomic_hatm_desvio',\n",
        "       'atomic_hfu_maximo', 'atomic_hfu_soma', 'atomic_radius_soma',\n",
        "       'atomic_radius_calculated_minimo', 'atomic_radius_calculated_media',\n",
        "       'atomic_spacegroupnum_maximo', 'atomic_spacegroupnum_media',\n",
        "       'atomic_spacegroupnum_desvio', 'brinell_hardness_maximo',\n",
        "       'brinell_hardness_soma', 'bulk_mod_maximo', 'coeff_of_lte_maximo',\n",
        "       'covalent_rad_emp_soma', 'critical_temperature_maximo',\n",
        "       'density_of_solid_soma', 'density_of_solid_media',\n",
        "       'density_of_solid_desvio', 'electrical_resist_maximo',\n",
        "       'mineral_hardness_maximo', 'poissons_ratio_maximo',\n",
        "       'poissons_ratio_soma', 'poissons_ratio_media', 'poissons_ratio_desvio',\n",
        "       'supercond_temp_maximo', 'van_der_waals_rad_minimo',\n",
        "       'vel_of_sound_minimo', 'oxidacao_maximo', 'entalpia-oxidos_maximo',\n",
        "       'electronegativity_ghosh_desvio', 'entropia-oxidos_soma',\n",
        "       'deltaCp-oxidos_minimo', 'deltaCp-oxidos_maximo']\n",
        "\n",
        "\n",
        "\n",
        "\n"
      ],
      "metadata": {
        "id": "Sg4RCjsaBezg"
      },
      "execution_count": null,
      "outputs": []
    },
    {
      "cell_type": "code",
      "source": [
        "import numpy as np\n",
        "import pandas as pd\n",
        "\n",
        "\n",
        "\n",
        "def reduzir_dimensao (reduzendo, todas_as_features, colunas_para_manter) :\n",
        "\n",
        "  arr = reduzendo\n",
        "\n",
        "  # obter todos os rótulos das colunas do dataframe\n",
        "  rotulos_das_colunas = todas_as_features.columns.tolist()\n",
        "\n",
        "  # criar uma lista com as posições das colunas a serem deletadas\n",
        "  colunas_para_deletar = [i for i in range(len(rotulos_das_colunas)) if rotulos_das_colunas[i] not in colunas_para_manter]\n",
        "\n",
        "  # deletar as colunas do array numpy\n",
        "  arr = np.delete(arr, colunas_para_deletar, axis=1)\n",
        "\n",
        "  return arr\n",
        "\n",
        "#reduzir features conjunto X\n",
        "\n",
        "#X_train = reduzir_dimensao(X_train,dataframe_pandas_features,colunas_para_manter).copy()\n",
        "#X_test = reduzir_dimensao(X_test,dataframe_pandas_features,colunas_para_manter).copy()\n"
      ],
      "metadata": {
        "id": "ZOJa2ahZttNm"
      },
      "execution_count": null,
      "outputs": []
    },
    {
      "cell_type": "code",
      "source": [
        "colunas_para_manter_2 = [\n",
        "    \"bulk_mod_maximo\",\n",
        "    \"atomic_hatm_maximo\",\n",
        "    \"atomic_hatm_media\",\n",
        "    \"atomic_en_allen _desvio\",\n",
        "    \"entropia-oxidos_soma\",\n",
        "    \"density_of_solid_media\",\n",
        "    \"atomic_en_allredroch_minimo\",\n",
        "    \"atomic_hatm_soma\",\n",
        "    \"covalent_rad_emp_soma\",\n",
        "    \"oxidacao_maximo\"\n",
        "]\n",
        "# DEFINIDO EM 18/11/2024"
      ],
      "metadata": {
        "id": "d3DkadQ58qYV"
      },
      "execution_count": null,
      "outputs": []
    },
    {
      "cell_type": "code",
      "source": [
        "X_train = reduzir_dimensao(X_train,dataframe_pandas_features,colunas_para_manter_2).copy()\n",
        "X_test = reduzir_dimensao(X_test,dataframe_pandas_features,colunas_para_manter_2).copy()"
      ],
      "metadata": {
        "id": "q18VRjCdwnYI"
      },
      "execution_count": null,
      "outputs": []
    },
    {
      "cell_type": "code",
      "source": [
        "# DEFINIDO EM 18/11/2024\n",
        "import pickle\n",
        "\n",
        "with open('model_GB_permutation.pkl', 'rb') as f:\n",
        "    modelGB = pickle.load(f)\n",
        "\n",
        "print(colunas_para_manter_2)\n",
        "\n",
        "labels_ingles = [\n",
        "    \"atomic_hatm_sum\",\n",
        "    \"bulk_modulus_maximum\",\n",
        "    \"atomic_hatm_mean\",\n",
        "    \"oxidation_maximum\",\n",
        "    \"atomic_en_allredroch_minimum\",\n",
        "    \"atomic_en_allen_stddev\",\n",
        "    \"density_of_solid_mean\",\n",
        "    \"atomic_hatm_maximum\",\n",
        "    \"covalent_radius_empirical_sum\",\n",
        "    \"entropy_oxides_sum\"\n",
        "]"
      ],
      "metadata": {
        "colab": {
          "base_uri": "https://localhost:8080/"
        },
        "id": "-qNNyjtF87bt",
        "outputId": "7c0b4ebb-4385-401c-b7f6-08d5557b298a"
      },
      "execution_count": null,
      "outputs": [
        {
          "output_type": "stream",
          "name": "stdout",
          "text": [
            "['atomic_hatm_soma', 'bulk_mod_maximo', 'atomic_hatm_media', 'oxidacao_maximo', 'atomic_en_allredroch_minimo', 'atomic_en_allen _desvio', 'density_of_solid_media', 'atomic_hatm_maximo', 'covalent_rad_emp_soma', 'entropia-oxidos_soma']\n"
          ]
        }
      ]
    },
    {
      "cell_type": "code",
      "source": [
        "\n",
        "from sklearn.inspection import permutation_importance\n",
        "\n",
        "r = permutation_importance(modelGB, X_train, y_train,\n",
        "                          n_repeats=30,\n",
        "                           random_state=0)\n",
        "\n",
        "# Sort the features by importance\n",
        "sorted_idx = r.importances_mean.argsort()\n",
        "labels_ingles = [labels_ingles[i] for i in sorted_idx]\n",
        "\n",
        "fig, ax = plt.subplots()\n",
        "ax.boxplot(r.importances[sorted_idx].T,\n",
        "           vert=False, labels=labels_ingles)\n",
        "\n",
        "ax.set_title(\"Permutation Importances\")\n",
        "fig.tight_layout()\n",
        "fig.savefig('feature_importances_GB.png')  # Save the figure\n",
        "plt.show()"
      ],
      "metadata": {
        "colab": {
          "base_uri": "https://localhost:8080/",
          "height": 487
        },
        "id": "uhh5ZBJMAyLF",
        "outputId": "12438147-4fdf-438c-f95c-94727cebd2ab"
      },
      "execution_count": null,
      "outputs": [
        {
          "output_type": "display_data",
          "data": {
            "text/plain": [
              "<Figure size 640x480 with 1 Axes>"
            ],
            "image/png": "[encoded data removed]"
          },
          "metadata": {}
        }
      ]
    },
    {
      "cell_type": "code",
      "source": [
        "# Dados necessários para recriar o boxplot\n",
        "data_to_save = {\n",
        "    \"importances\": r.importances,\n",
        "    \"sorted_idx\": sorted_idx,\n",
        "    \"features_list\": labels_ingles\n",
        "}\n",
        "\n",
        "# Salvando com pickle\n",
        "with open(\"boxplot_data_GB.pkl\", \"wb\") as f:\n",
        "    pickle.dump(data_to_save, f)"
      ],
      "metadata": {
        "id": "xsfsctSI-h2H"
      },
      "execution_count": null,
      "outputs": []
    }
  ]
}