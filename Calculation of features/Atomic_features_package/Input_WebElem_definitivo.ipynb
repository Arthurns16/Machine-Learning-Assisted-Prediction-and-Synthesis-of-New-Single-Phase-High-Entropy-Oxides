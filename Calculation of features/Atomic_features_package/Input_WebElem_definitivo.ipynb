{
 "cells": [
  {
   "cell_type": "code",
   "execution_count": 3,
   "metadata": {
    "ExecuteTime": {
     "end_time": "2023-03-03T19:23:06.657066Z",
     "start_time": "2023-03-03T19:23:03.675624Z"
    }
   },
   "outputs": [],
   "source": [
    "from atomicfeaturespackage.atomicproperties import atomic_properties_pymat as pymat\n",
    "import pandas as pd\n",
    "import numpy as np\n",
    "import matplotlib.pyplot as plt\n",
    "import seaborn as sns\n",
    "import subprocess\n",
    "import sys\n",
    "\n",
    "def install(package):\n",
    "    subprocess.check_call([sys.executable, \"-m\", \"pip\", \"install\", package])\n",
    "    \n",
    "    \n",
    "    \n",
    "install(\"openpyxl\")\n",
    "\n",
    "import openpyxl\n",
    "\n",
    "\n",
    "\n",
    "\n",
    "\n"
   ]
  },
  {
   "cell_type": "code",
   "execution_count": 33,
   "metadata": {
    "ExecuteTime": {
     "end_time": "2023-03-03T20:25:38.056156Z",
     "start_time": "2023-03-03T20:25:38.044580Z"
    }
   },
   "outputs": [],
   "source": [
    "# substituir \"nan\" por 0\n",
    "propriedades_atomicas_diretas = [\"atomic_ea\",\"atomic_en_allen \",\"atomic_en_allredroch\",\"atomic_en_paul\",\n",
    "                                 \"atomic_en_sanderson\",\"atomic_hatm\",\"atomic_hfu\",\"atomic_hvap\",\"atomic_radius\",\n",
    "                                  \"atomic_radius_calculated\",\"atomic_spacegroupnum\", \"boiling_point\",\"brinell_hardness\",\n",
    "                                  \"bulk_mod\",\"coeff_of_lte\",\"covalent_rad\",\"covalent_rad_emp\",\"critical_temperature\",\n",
    "                                    \"density_of_solid\",\"electrical_resist\",\"liquid_range\",\"melting_point\",\n",
    "                                \"mineral_hardness\",\"molar_vol\",\"poissons_ratio\",\"reflectivity\",\"refract_index\",\n",
    "                                \"rigidity_mod\", \"thermal_conduct\",\"supercond_temp\",\"van_der_waals_rad\",\"vel_of_sound\",\n",
    "                                \"vickers_hardness\", \"youngs_mod\"]\n",
    "\n",
    "# media do dicionario , substituir \"nan\" por 0\n",
    "propriedaes_atomicas_para_fazer_media =[\"atomic_ebe \",\"atomic_enc\",\"atomic_ie\",\"atomic_orbital_radii\",\"paul_ionic_radii\"]\n",
    "\n",
    "#pensar no que fazer :atomic_rad_iso ,atomic_nat_iso , atomic_thermdata : REJEITADO \n"
   ]
  },
  {
   "cell_type": "code",
   "execution_count": 5,
   "metadata": {
    "ExecuteTime": {
     "end_time": "2023-03-03T19:23:16.744426Z",
     "start_time": "2023-03-03T19:23:16.736820Z"
    }
   },
   "outputs": [],
   "source": [
    "from atomicfeaturespackage.atomicproperties import atomic_properties_webele as webele\n",
    "\n",
    "######### calcular as propriedes para 1 atomo\n",
    "\n",
    "string = ''' \n",
    "\n",
    "<select tabindex=\"-1\" multiple=\"multiple\" size=\"10\"><option class=\"introspection\" selected=\"selected\">atomic_cellparam</option><option class=\"introspection\">atomic_ea</option><option class=\"introspection\">atomic_ebe</option><option class=\"introspection\">atomic_element_symbol</option><option class=\"introspection\">atomic_en</option><option class=\"introspection\">atomic_en_allen</option><option class=\"introspection\">atomic_en_allredroch</option><option class=\"introspection\">atomic_en_paul</option><option class=\"introspection\">atomic_en_sanderson</option><option class=\"introspection\">atomic_enc</option><option class=\"introspection\">atomic_hatm</option><option class=\"introspection\">atomic_hfu</option><option class=\"introspection\">atomic_hvap</option><option class=\"introspection\">atomic_ie</option><option class=\"introspection\">atomic_ionic_radii</option><option class=\"introspection\">atomic_nat_iso</option><option class=\"introspection\">atomic_nmr</option><option class=\"introspection\">atomic_orbital_radii</option><option class=\"introspection\">atomic_rad_iso</option><option class=\"introspection\">atomic_radius</option><option class=\"introspection\">atomic_radius_calculated</option><option class=\"introspection\">atomic_spacegroup</option><option class=\"introspection\">atomic_spacegroupnum</option><option class=\"introspection\">atomic_structure</option><option class=\"introspection\">atomic_thermdata</option><option class=\"introspection\">boiling_point</option><option class=\"introspection\">brinell_hardness</option><option class=\"introspection\">bulk_mod</option><option class=\"introspection\">coeff_of_lte</option><option class=\"introspection\">covalent_rad</option><option class=\"introspection\">covalent_rad_emp</option><option class=\"introspection\">covalent_radius_mol</option><option class=\"introspection\">critical_temperature</option><option class=\"introspection\">density_of_solid</option><option class=\"introspection\">electrical_resist</option><option class=\"introspection\">get</option><option class=\"introspection\">liquid_range</option><option class=\"introspection\">m_add_sub_section</option><option class=\"introspection\">m_add_values</option><option class=\"introspection\">m_all_contents</option><option class=\"introspection\">m_all_validate</option><option class=\"introspection\">m_annotations</option><option class=\"introspection\">m_as</option><option class=\"introspection\">m_cache</option><option class=\"introspection\">m_contents</option><option class=\"introspection\">m_context</option><option class=\"introspection\">m_copy</option><option class=\"introspection\">m_create</option><option class=\"introspection\">m_def</option><option class=\"introspection\">m_follows</option><option class=\"introspection\">m_from_dict</option><option class=\"introspection\">m_get</option><option class=\"introspection\">m_get_annotations</option><option class=\"introspection\">m_get_sub_section</option><option class=\"introspection\">m_get_sub_sections</option><option class=\"introspection\">m_is_set</option><option class=\"introspection\">m_mod_count</option><option class=\"introspection\">m_parent</option><option class=\"introspection\">m_parent_as</option><option class=\"introspection\">m_parent_index</option><option class=\"introspection\">m_parent_sub_section</option><option class=\"introspection\">m_path</option><option class=\"introspection\">m_pretty_print</option><option class=\"introspection\">m_remove_sub_section</option><option class=\"introspection\">m_resolve</option><option class=\"introspection\">m_resolved</option><option class=\"introspection\">m_root</option><option class=\"introspection\">m_set</option><option class=\"introspection\">m_sub_section_count</option><option class=\"introspection\">m_to_dict</option><option class=\"introspection\">m_to_json</option><option class=\"introspection\">m_traverse</option><option class=\"introspection\">m_update</option><option class=\"introspection\">m_update_from_dict</option><option class=\"introspection\">m_validate</option><option class=\"introspection\">m_warning</option><option class=\"introspection\">m_xpath</option><option class=\"introspection\">melting_point</option><option class=\"introspection\">mineral_hardness</option><option class=\"introspection\">molar_vol</option><option class=\"introspection\">paul_ionic_radii</option><option class=\"introspection\">poissons_ratio</option><option class=\"introspection\">reflectivity</option><option class=\"introspection\">refract_index</option><option class=\"introspection\">rigidity_mod</option><option class=\"introspection\">section_webele_metadata</option><option class=\"introspection\">supercond_temp</option><option class=\"introspection\">thermal_conduct</option><option class=\"introspection\">values</option><option class=\"introspection\">van_der_waals_rad</option><option class=\"introspection\">vel_of_sound</option><option class=\"introspection\">vickers_hardness</option><option class=\"introspection\">youngs_mod</option></select>\n",
    "\n",
    "'''\n",
    "\n",
    "\n",
    "    "
   ]
  },
  {
   "cell_type": "code",
   "execution_count": 6,
   "metadata": {
    "ExecuteTime": {
     "end_time": "2023-03-03T19:23:24.635158Z",
     "start_time": "2023-03-03T19:23:24.624318Z"
    }
   },
   "outputs": [
    {
     "name": "stdout",
     "output_type": "stream",
     "text": [
      "['atomic_ea', 'atomic_ebe', 'atomic_element_symbol', 'atomic_en', 'atomic_en_allen', 'atomic_en_allredroch', 'atomic_en_paul', 'atomic_en_sanderson', 'atomic_enc', 'atomic_hatm', 'atomic_hfu', 'atomic_hvap', 'atomic_ie', 'atomic_ionic_radii', 'atomic_nat_iso', 'atomic_nmr', 'atomic_orbital_radii', 'atomic_rad_iso', 'atomic_radius', 'atomic_radius_calculated', 'atomic_spacegroup', 'atomic_spacegroupnum', 'atomic_structure', 'atomic_thermdata', 'boiling_point', 'brinell_hardness', 'bulk_mod', 'coeff_of_lte', 'covalent_rad', 'covalent_rad_emp', 'covalent_radius_mol', 'critical_temperature', 'density_of_solid', 'electrical_resist', 'get', 'liquid_range', 'm_add_sub_section', 'm_add_values', 'm_all_contents', 'm_all_validate', 'm_annotations', 'm_as', 'm_cache', 'm_contents', 'm_context', 'm_copy', 'm_create', 'm_def', 'm_follows', 'm_from_dict', 'm_get', 'm_get_annotations', 'm_get_sub_section', 'm_get_sub_sections', 'm_is_set', 'm_mod_count', 'm_parent', 'm_parent_as', 'm_parent_index', 'm_parent_sub_section', 'm_path', 'm_pretty_print', 'm_remove_sub_section', 'm_resolve', 'm_resolved', 'm_root', 'm_set', 'm_sub_section_count', 'm_to_dict', 'm_to_json', 'm_traverse', 'm_update', 'm_update_from_dict', 'm_validate', 'm_warning', 'm_xpath', 'melting_point', 'mineral_hardness', 'molar_vol', 'paul_ionic_radii', 'poissons_ratio', 'reflectivity', 'refract_index', 'rigidity_mod', 'section_webele_metadata', 'supercond_temp', 'thermal_conduct', 'values', 'van_der_waals_rad', 'vel_of_sound', 'vickers_hardness', 'youngs_mod']\n"
     ]
    }
   ],
   "source": [
    "\n",
    "\n",
    "#atomic_ea\n",
    "\n",
    "propriedades = []\n",
    "\n",
    "\n",
    "while True:\n",
    "    \n",
    "    indice = string.find(\"class=\\\"introspection\\\">\")\n",
    "    \n",
    "    if indice != -1 :\n",
    "        \n",
    "        string  =  string [indice + 22 :] \n",
    "        \n",
    "        fim = string.find(\"<\")\n",
    "        \n",
    "        propriedade = string[0:fim]\n",
    "        \n",
    "        propriedades.append(propriedade)\n",
    "        \n",
    "        string = string [fim:]\n",
    "        \n",
    "    else:\n",
    "        break\n",
    "\n",
    "\n",
    "print(propriedades)"
   ]
  },
  {
   "cell_type": "code",
   "execution_count": 26,
   "metadata": {
    "ExecuteTime": {
     "end_time": "2023-03-03T20:19:47.743914Z",
     "start_time": "2023-03-03T20:19:47.736705Z"
    }
   },
   "outputs": [],
   "source": [
    "def media_dicionario (dicionario):\n",
    "\n",
    "    soma = 0.0\n",
    "    \n",
    "    for element in atomic_ebe.values():\n",
    "        soma = soma + float(element)\n",
    "    \n",
    "    media = soma / len(atomic_ebe.values()) \n",
    "    \n",
    "    return media\n",
    "    \n",
    "\n",
    "def substituir_nan_por_0(valor):\n",
    "    \n",
    "    if valor is None:\n",
    "        return 0 \n",
    "    \n",
    "    if str(valor).find(\"nan\") != -1 or str(valor).find(\"infinity\") != -1:\n",
    "        return 0\n",
    "    \n",
    "    try:\n",
    "        \n",
    "        float(valor)\n",
    "        \n",
    "    except:\n",
    "        return 0\n",
    "    \n",
    "    return valor "
   ]
  },
  {
   "cell_type": "code",
   "execution_count": 34,
   "metadata": {
    "ExecuteTime": {
     "end_time": "2023-03-03T20:28:35.945862Z",
     "start_time": "2023-03-03T20:28:35.936632Z"
    }
   },
   "outputs": [],
   "source": [
    "\n",
    "\n",
    "resultado = None\n",
    "simbolo = None\n",
    "propriedade =None\n",
    "\n",
    "def pegar_propriedade_atomica (simbolo_f, propriedade_f):  \n",
    "  \n",
    "    global simbolo\n",
    "    global propriedade\n",
    "\n",
    "\n",
    "    simbolo = simbolo_f\n",
    "    propriedade = propriedade_f\n",
    "\n",
    "\n",
    "    \n",
    "    \n",
    "    comando = '''\n",
    "\n",
    "global resultado \n",
    "global simbolo\n",
    "\n",
    "\n",
    "resultado = webele.symbol(simbolo).'''+propriedade    \n",
    "    \n",
    "   \n",
    "    \n",
    "    exec(comando)\n",
    "    \n",
    "    if str(propriedaes_atomicas_para_fazer_media).find(propriedade) != -1 :\n",
    "        return substituir_nan_por_0(media_dicionario (resultado))\n",
    "\n",
    "        \n",
    "    return substituir_nan_por_0(resultado)"
   ]
  },
  {
   "cell_type": "code",
   "execution_count": 8,
   "metadata": {
    "ExecuteTime": {
     "end_time": "2023-03-03T19:23:38.534958Z",
     "start_time": "2023-03-03T19:23:38.505000Z"
    }
   },
   "outputs": [
    {
     "name": "stdout",
     "output_type": "stream",
     "text": [
      "atomic_ea : 141.0\n",
      "atomic_ebe : {'1s': '543.1', '2s': '41.6'}\n",
      "atomic_element_symbol : None\n",
      "atomic_en : {'Pauling electronegativity': '3.44', 'Sanderson electronegativity': '3.65', 'Allred Rochow electronegativity': '3.50', 'Mulliken-Jaffe electronegativity': '3.41 (16.7% s orbital)', 'Allen electronegativity': '3.610'}\n",
      "atomic_en_allen : 3.61\n",
      "atomic_en_allredroch : 3.5\n",
      "atomic_en_paul : 3.44\n",
      "atomic_en_sanderson : 3.65\n",
      "atomic_enc : {'2s': '4.49', '3s': '', '3p': '', '4s': '', '4p': '', '4d': '', '5s': '', '5p': '', '6s': ''}\n",
      "atomic_hatm : 249.0\n",
      "atomic_hfu : 0.222\n",
      "atomic_hvap : 3.41\n",
      "atomic_ie : {'1st': '1313.94', '2nd': '3388.67', '3rd': '5300.47', '4th': '7469.27', '5th': '10989.6', '6th': '13326.4', '7th': '71334.2', '8th': '84078.3'}\n",
      "atomic_ionic_radii : {'O(-II)': ['8-coordinate', '128']}\n",
      "atomic_nat_iso : {'16O': {'Isotope': '16O', 'Mass / Da': '15.99491463 (5)', 'Natural abundance (atom %)': '99.757 (16)', 'Nuclear spin (I)': '0', 'Magnetic moment (μ/μN)': '0'}, '17O': {'Isotope': '17O', 'Mass / Da': '16.9991312 (4)', 'Natural abundance (atom %)': '0.038 (1)', 'Nuclear spin (I)': '5/2', 'Magnetic moment (μ/μN)': '-1.89380'}, '18O': {'Isotope': '18O', 'Mass / Da': '17.9991603 (9)', 'Natural abundance (atom %)': '0.205 (14)', 'Nuclear spin (I)': '0', 'Magnetic moment (μ/μN)': '0'}}\n",
      "atomic_nmr : {'Isotope_17O': {'Natural abundance %': '0.038', 'Spin (I)': '5/2', 'Frequency relative to 1H = 100 (MHz)': '13.556457', 'Receptivity_DP_relative_to_1H = 1.00': '0.0000111', 'Receptivity_DC_relative_to_13C = 1.00': '0.0650', 'Magnetogyric_ratio (γ)': '-3.62808', 'Magnetic_moment μ (μN)': '-2.24077', 'Nuclear_quad_mom (Q/millibarn)': '-25.58(22)', 'Line_width_factor 1056 l (m4)': '2.1'}}\n",
      "atomic_orbital_radii : {'s orbital': '0.874962', 'p orbital': '0.832845', 'd orbital': nan, 'f orbital': nan}\n",
      "atomic_rad_iso : {'14O': {'Isotope': '14O', 'Mass / Da': '14.008595', 'Half-life': '70.60 s', 'Mode of decay': 'EC to 14N', 'Nuclear spin': '0', 'Nuclear magnetic moment': nan}, '15O': {'Isotope': '15O', 'Mass / Da': '15.003065', 'Half-life': '122.2 s', 'Mode of decay': 'EC to 15N', 'Nuclear spin': '1/2', 'Nuclear magnetic moment': '0.719'}, '19O': {'Isotope': '19O', 'Mass / Da': '19.003577', 'Half-life': '26.9 s', 'Mode of decay': 'β- to 19F', 'Nuclear spin': '5/2', 'Nuclear magnetic moment': nan}, '20O': {'Isotope': '20O', 'Mass / Da': '20.004076', 'Half-life': '13.5 s', 'Mode of decay': 'β- to 20F', 'Nuclear spin': '0', 'Nuclear magnetic moment': nan}, '21O': {'Isotope': '21O', 'Mass / Da': '21.008730', 'Half-life': '3.4 s', 'Mode of decay': 'β- to 21F', 'Nuclear spin': nan, 'Nuclear magnetic moment': nan}, '22O': {'Isotope': '22O', 'Mass / Da': '22.0101', 'Half-life': '2.2 s', 'Mode of decay': 'β- to 22F', 'Nuclear spin': nan, 'Nuclear magnetic moment': nan}}\n",
      "atomic_radius : 60.0\n",
      "atomic_radius_calculated : 48.0\n",
      "atomic_spacegroup : C12/m1\n",
      "atomic_spacegroupnum : 12.0\n",
      "atomic_structure : monoclinic\n",
      "atomic_thermdata : {'Gas (O2)': {'ΔfH°': '0', 'ΔfG°': '0', 'S°': '205.152 ± 0.005', 'CpH': '29.4', 'H°298.15‑H°0': '8.680 ± 0.002'}, 'Gas (atoms)': {'ΔfH°': '249.18 ± 0.10', 'ΔfG°': '231.75', 'S°': '161.059 ± 0.003', 'CpH': '21.9', 'H°298.15‑H°0': '6.725 ± 0.001'}, 'Gas (O3)': {'ΔfH°': '143', 'ΔfG°': '163', 'S°': '238.8', 'CpH': '39.2', 'H°298.15‑H°0': '10.350'}}\n",
      "boiling_point : 90.2\n",
      "brinell_hardness : nan\n",
      "bulk_mod : nan\n",
      "coeff_of_lte : nan\n",
      "covalent_rad : 66.0\n",
      "covalent_rad_emp : 73.0\n",
      "covalent_radius_mol : {'Molecular single bond covalent radius': '63 (coordination number 2)', 'Molecular double bond covalent radius': '57', 'Molecular triple bond covalent radius': '53'}\n",
      "critical_temperature : 154.6\n",
      "density_of_solid : 1495.0\n",
      "electrical_resist : nan\n",
      "get : <bound method MSection.get of atomic_properties_webele(density_of_solid, youngs_mod, rigidity_mod, bulk_mod, poissons_ratio, mineral_hardness, brinell_hardness, vickers_hardness, electrical_resist, thermal_conduct, +39 more properties)>\n",
      "liquid_range : 35.4\n",
      "m_add_sub_section : <bound method MSection.m_add_sub_section of atomic_properties_webele(density_of_solid, youngs_mod, rigidity_mod, bulk_mod, poissons_ratio, mineral_hardness, brinell_hardness, vickers_hardness, electrical_resist, thermal_conduct, +39 more properties)>\n",
      "m_add_values : <bound method MSection.m_add_values of atomic_properties_webele(density_of_solid, youngs_mod, rigidity_mod, bulk_mod, poissons_ratio, mineral_hardness, brinell_hardness, vickers_hardness, electrical_resist, thermal_conduct, +39 more properties)>\n",
      "m_all_contents : <bound method MSection.m_all_contents of atomic_properties_webele(density_of_solid, youngs_mod, rigidity_mod, bulk_mod, poissons_ratio, mineral_hardness, brinell_hardness, vickers_hardness, electrical_resist, thermal_conduct, +39 more properties)>\n",
      "m_all_validate : <bound method MSection.m_all_validate of atomic_properties_webele(density_of_solid, youngs_mod, rigidity_mod, bulk_mod, poissons_ratio, mineral_hardness, brinell_hardness, vickers_hardness, electrical_resist, thermal_conduct, +39 more properties)>\n",
      "m_annotations : {}\n",
      "m_as : <bound method MSection.m_as of atomic_properties_webele(density_of_solid, youngs_mod, rigidity_mod, bulk_mod, poissons_ratio, mineral_hardness, brinell_hardness, vickers_hardness, electrical_resist, thermal_conduct, +39 more properties)>\n",
      "m_cache : {}\n",
      "m_contents : <bound method MSection.m_contents of atomic_properties_webele(density_of_solid, youngs_mod, rigidity_mod, bulk_mod, poissons_ratio, mineral_hardness, brinell_hardness, vickers_hardness, electrical_resist, thermal_conduct, +39 more properties)>\n",
      "m_context : None\n",
      "m_copy : <bound method MSection.m_copy of atomic_properties_webele(density_of_solid, youngs_mod, rigidity_mod, bulk_mod, poissons_ratio, mineral_hardness, brinell_hardness, vickers_hardness, electrical_resist, thermal_conduct, +39 more properties)>\n",
      "m_create : <bound method MSection.m_create of atomic_properties_webele(density_of_solid, youngs_mod, rigidity_mod, bulk_mod, poissons_ratio, mineral_hardness, brinell_hardness, vickers_hardness, electrical_resist, thermal_conduct, +39 more properties)>\n",
      "m_def : atomicfeaturespackage.metainfo.metainfo.atomic_properties_webele:Section\n",
      "m_follows : <bound method MSection.m_follows of atomic_properties_webele(density_of_solid, youngs_mod, rigidity_mod, bulk_mod, poissons_ratio, mineral_hardness, brinell_hardness, vickers_hardness, electrical_resist, thermal_conduct, +39 more properties)>\n",
      "m_from_dict : <bound method MSection.m_from_dict of <class 'atomicfeaturespackage.metainfo.metainfo.atomic_properties_webele'>>\n",
      "m_get : <bound method MSection.m_get of atomic_properties_webele(density_of_solid, youngs_mod, rigidity_mod, bulk_mod, poissons_ratio, mineral_hardness, brinell_hardness, vickers_hardness, electrical_resist, thermal_conduct, +39 more properties)>\n",
      "m_get_annotations : <bound method MSection.m_get_annotations of atomic_properties_webele(density_of_solid, youngs_mod, rigidity_mod, bulk_mod, poissons_ratio, mineral_hardness, brinell_hardness, vickers_hardness, electrical_resist, thermal_conduct, +39 more properties)>\n",
      "m_get_sub_section : <bound method MSection.m_get_sub_section of atomic_properties_webele(density_of_solid, youngs_mod, rigidity_mod, bulk_mod, poissons_ratio, mineral_hardness, brinell_hardness, vickers_hardness, electrical_resist, thermal_conduct, +39 more properties)>\n",
      "m_get_sub_sections : <bound method MSection.m_get_sub_sections of atomic_properties_webele(density_of_solid, youngs_mod, rigidity_mod, bulk_mod, poissons_ratio, mineral_hardness, brinell_hardness, vickers_hardness, electrical_resist, thermal_conduct, +39 more properties)>\n",
      "m_is_set : <bound method MSection.m_is_set of atomic_properties_webele(density_of_solid, youngs_mod, rigidity_mod, bulk_mod, poissons_ratio, mineral_hardness, brinell_hardness, vickers_hardness, electrical_resist, thermal_conduct, +39 more properties)>\n",
      "m_mod_count : 50\n",
      "m_parent : None\n",
      "m_parent_as : <bound method MSection.m_parent_as of atomic_properties_webele(density_of_solid, youngs_mod, rigidity_mod, bulk_mod, poissons_ratio, mineral_hardness, brinell_hardness, vickers_hardness, electrical_resist, thermal_conduct, +39 more properties)>\n",
      "m_parent_index : -1\n",
      "m_parent_sub_section : None\n",
      "m_path : <bound method MSection.m_path of atomic_properties_webele(density_of_solid, youngs_mod, rigidity_mod, bulk_mod, poissons_ratio, mineral_hardness, brinell_hardness, vickers_hardness, electrical_resist, thermal_conduct, +39 more properties)>\n",
      "m_pretty_print : <bound method MSection.m_pretty_print of atomic_properties_webele(density_of_solid, youngs_mod, rigidity_mod, bulk_mod, poissons_ratio, mineral_hardness, brinell_hardness, vickers_hardness, electrical_resist, thermal_conduct, +39 more properties)>\n",
      "m_remove_sub_section : <bound method MSection.m_remove_sub_section of atomic_properties_webele(density_of_solid, youngs_mod, rigidity_mod, bulk_mod, poissons_ratio, mineral_hardness, brinell_hardness, vickers_hardness, electrical_resist, thermal_conduct, +39 more properties)>\n",
      "m_resolve : <bound method MSection.m_resolve of atomic_properties_webele(density_of_solid, youngs_mod, rigidity_mod, bulk_mod, poissons_ratio, mineral_hardness, brinell_hardness, vickers_hardness, electrical_resist, thermal_conduct, +39 more properties)>\n",
      "m_resolved : <bound method MSection.m_resolved of atomic_properties_webele(density_of_solid, youngs_mod, rigidity_mod, bulk_mod, poissons_ratio, mineral_hardness, brinell_hardness, vickers_hardness, electrical_resist, thermal_conduct, +39 more properties)>\n",
      "m_root : <bound method MSection.m_root of atomic_properties_webele(density_of_solid, youngs_mod, rigidity_mod, bulk_mod, poissons_ratio, mineral_hardness, brinell_hardness, vickers_hardness, electrical_resist, thermal_conduct, +39 more properties)>\n",
      "m_set : <bound method MSection.m_set of atomic_properties_webele(density_of_solid, youngs_mod, rigidity_mod, bulk_mod, poissons_ratio, mineral_hardness, brinell_hardness, vickers_hardness, electrical_resist, thermal_conduct, +39 more properties)>\n",
      "m_sub_section_count : <bound method MSection.m_sub_section_count of atomic_properties_webele(density_of_solid, youngs_mod, rigidity_mod, bulk_mod, poissons_ratio, mineral_hardness, brinell_hardness, vickers_hardness, electrical_resist, thermal_conduct, +39 more properties)>\n",
      "m_to_dict : <bound method MSection.m_to_dict of atomic_properties_webele(density_of_solid, youngs_mod, rigidity_mod, bulk_mod, poissons_ratio, mineral_hardness, brinell_hardness, vickers_hardness, electrical_resist, thermal_conduct, +39 more properties)>\n",
      "m_to_json : <bound method MSection.m_to_json of atomic_properties_webele(density_of_solid, youngs_mod, rigidity_mod, bulk_mod, poissons_ratio, mineral_hardness, brinell_hardness, vickers_hardness, electrical_resist, thermal_conduct, +39 more properties)>\n",
      "m_traverse : <bound method MSection.m_traverse of atomic_properties_webele(density_of_solid, youngs_mod, rigidity_mod, bulk_mod, poissons_ratio, mineral_hardness, brinell_hardness, vickers_hardness, electrical_resist, thermal_conduct, +39 more properties)>\n",
      "m_update : <bound method MSection.m_update of atomic_properties_webele(density_of_solid, youngs_mod, rigidity_mod, bulk_mod, poissons_ratio, mineral_hardness, brinell_hardness, vickers_hardness, electrical_resist, thermal_conduct, +39 more properties)>\n",
      "m_update_from_dict : <bound method MSection.m_update_from_dict of atomic_properties_webele(density_of_solid, youngs_mod, rigidity_mod, bulk_mod, poissons_ratio, mineral_hardness, brinell_hardness, vickers_hardness, electrical_resist, thermal_conduct, +39 more properties)>\n",
      "m_validate : <bound method MSection.m_validate of atomic_properties_webele(density_of_solid, youngs_mod, rigidity_mod, bulk_mod, poissons_ratio, mineral_hardness, brinell_hardness, vickers_hardness, electrical_resist, thermal_conduct, +39 more properties)>\n",
      "m_warning : <bound method MSection.m_warning of atomic_properties_webele(density_of_solid, youngs_mod, rigidity_mod, bulk_mod, poissons_ratio, mineral_hardness, brinell_hardness, vickers_hardness, electrical_resist, thermal_conduct, +39 more properties)>\n",
      "m_xpath : <bound method MSection.m_xpath of atomic_properties_webele(density_of_solid, youngs_mod, rigidity_mod, bulk_mod, poissons_ratio, mineral_hardness, brinell_hardness, vickers_hardness, electrical_resist, thermal_conduct, +39 more properties)>\n",
      "melting_point : 54.8\n",
      "mineral_hardness : nan\n",
      "molar_vol : None\n",
      "paul_ionic_radii : {'O(I)': '22', 'O(VI)': '9', 'O(-I)': '176', 'O(-II)': '140'}\n",
      "poissons_ratio : nan\n",
      "reflectivity : nan\n",
      "refract_index : 1.000271\n",
      "rigidity_mod : nan\n",
      "section_webele_metadata : metadata(source, atomic_method, atomic_basis_set, atomic_spin_setting)\n",
      "supercond_temp : nan\n",
      "thermal_conduct : 0.02658\n",
      "values : <bound method MSection.values of atomic_properties_webele(density_of_solid, youngs_mod, rigidity_mod, bulk_mod, poissons_ratio, mineral_hardness, brinell_hardness, vickers_hardness, electrical_resist, thermal_conduct, +39 more properties)>\n",
      "van_der_waals_rad : 150.0\n",
      "vel_of_sound : 317.5\n",
      "vickers_hardness : nan\n",
      "youngs_mod : nan\n"
     ]
    }
   ],
   "source": [
    "for propriedade in propriedades :\n",
    "    \n",
    "    print(propriedade +\" : \" +str(pegar_propriedade_atomica ('O',propriedade)))\n",
    "    "
   ]
  },
  {
   "cell_type": "code",
   "execution_count": 20,
   "metadata": {
    "ExecuteTime": {
     "end_time": "2023-03-03T20:01:25.829640Z",
     "start_time": "2023-03-03T20:01:25.822810Z"
    }
   },
   "outputs": [],
   "source": []
  },
  {
   "cell_type": "code",
   "execution_count": 12,
   "metadata": {
    "ExecuteTime": {
     "end_time": "2023-03-03T19:32:48.320778Z",
     "start_time": "2023-03-03T19:32:48.267464Z"
    }
   },
   "outputs": [
    {
     "name": "stdout",
     "output_type": "stream",
     "text": [
      "[112.0, 15.7, 63.7, 64.3, 42.5, 141.0]\n"
     ]
    }
   ],
   "source": [
    "def calcular_vetor_propriedade_da_linha (propriedade,linha):\n",
    "    \n",
    "    wb = openpyxl.load_workbook('Input.xlsx')\n",
    "    ws = wb['Plan1']\n",
    "    \n",
    "    atomos = ws[\"B\"+ str(linha)].value\n",
    "    \n",
    "\n",
    "    atomos = atomos.replace (\" \",\"\")\n",
    "    atomos = atomos.replace (\"'\",\"\")\n",
    "    atomos = atomos.replace (\"[\",\"\")\n",
    "    atomos = atomos.replace (\"]\",\"\")\n",
    "    atomos = atomos.split(\",\")\n",
    "\n",
    "    vetor_propriedade_da_linha = []\n",
    "\n",
    "    for elemento in atomos:\n",
    "        try: \n",
    "            vetor_propriedade_da_linha.append (float(pegar_propriedade_atomica (elemento, propriedade)))\n",
    "        except:\n",
    "            valor = 0\n",
    "    \n",
    "    return vetor_propriedade_da_linha\n",
    "\n",
    "#print(calcular_vetor_propriedade_da_linha (\"atomic_ea\",2))\n"
   ]
  },
  {
   "cell_type": "code",
   "execution_count": 18,
   "metadata": {
    "ExecuteTime": {
     "end_time": "2023-03-03T19:44:42.743562Z",
     "start_time": "2023-03-03T19:44:42.688503Z"
    }
   },
   "outputs": [
    {
     "data": {
      "text/plain": [
       "41.8737785891521"
      ]
     },
     "execution_count": 18,
     "metadata": {},
     "output_type": "execute_result"
    }
   ],
   "source": [
    "# Operacoes \n",
    "\n",
    "import numpy as np \n",
    "\n",
    "def minimo (vetor) :\n",
    "    return min(vetor)\n",
    "\n",
    "def maximo (vetor) :\n",
    "    return max(vetor)\n",
    "\n",
    "def soma (vetor) :\n",
    "    return sum(vetor)\n",
    "\n",
    "def media (vetor) :\n",
    "    return sum(vetor)/len(vetor)\n",
    "\n",
    "def desvio (vetor) :\n",
    "    return np.std(vetor)\n",
    "\n"
   ]
  },
  {
   "cell_type": "code",
   "execution_count": 22,
   "metadata": {
    "ExecuteTime": {
     "end_time": "2023-03-03T20:03:47.502962Z",
     "start_time": "2023-03-03T20:03:45.867631Z"
    }
   },
   "outputs": [],
   "source": [
    "\n",
    "##  Criar coluna         \n",
    "import pandas as pd\n",
    "\n",
    "def criar_culunas_excel (vetor_propriedades) : \n",
    "\n",
    "    file_name = \"Input_colunas_vazias.xlsx\"\n",
    "\n",
    "\n",
    "    df = pd.read_excel(file_name) \n",
    "\n",
    "    for prop in vetor_propriedades :\n",
    "        df[prop+\"_minimo\"] = None \n",
    "        df[prop+\"_maximo\"] = None \n",
    "        df[prop+\"_soma\"] = None \n",
    "        df[prop+\"_media\"] = None \n",
    "        df[prop+\"_desvio\"] = None \n",
    "\n",
    "\n",
    "    df.to_excel(\"Input_colunas_vazias.xlsx\") \n",
    "\n",
    "criar_culunas_excel (propriedaes_atomicas_para_fazer_media)\n",
    "  "
   ]
  },
  {
   "cell_type": "code",
   "execution_count": 44,
   "metadata": {
    "ExecuteTime": {
     "end_time": "2023-03-03T21:02:12.808715Z",
     "start_time": "2023-03-03T21:02:12.791457Z"
    }
   },
   "outputs": [],
   "source": [
    "\n",
    "#preencher_uma_linha\n",
    "\n",
    "def preencher_linhas (linha_inicial, linha_final) :\n",
    "\n",
    "    file_name = \"Input_colunas_vazias.xlsx\"\n",
    "    linha = linha_inicial\n",
    "    \n",
    "    \n",
    "    \n",
    "    df = pd.read_excel(file_name) \n",
    "\n",
    "    \n",
    "    while linha < linha_final+1 :\n",
    "        for propriedade_direta in propriedades_atomicas_diretas:\n",
    "\n",
    "            df.loc[linha, propriedade_direta+\"_minimo\"] = minimo(calcular_vetor_propriedade_da_linha (propriedade_direta,linha))\n",
    "            df.loc[linha, propriedade_direta+\"_maximo\"] = maximo(calcular_vetor_propriedade_da_linha (propriedade_direta,linha))\n",
    "            df.loc[linha, propriedade_direta+\"_soma\"] = soma(calcular_vetor_propriedade_da_linha (propriedade_direta,linha))\n",
    "            df.loc[linha, propriedade_direta+\"_media\"] = media(calcular_vetor_propriedade_da_linha (propriedade_direta,linha))\n",
    "            df.loc[linha, propriedade_direta+\"_desvio\"] = desvio(calcular_vetor_propriedade_da_linha (propriedade_direta,linha))\n",
    "\n",
    "        for propriedade_media in propriedaes_atomicas_para_fazer_media:\n",
    "\n",
    "            df.loc[linha, propriedade_media+\"_minimo\"] = minimo(calcular_vetor_propriedade_da_linha (propriedade_direta,linha))\n",
    "            df.loc[linha, propriedade_media+\"_maximo\"] = maximo(calcular_vetor_propriedade_da_linha (propriedade_direta,linha))\n",
    "            df.loc[linha, propriedade_media+\"_soma\"] = soma(calcular_vetor_propriedade_da_linha (propriedade_direta,linha))\n",
    "            df.loc[linha, propriedade_media+\"_media\"] = media(calcular_vetor_propriedade_da_linha (propriedade_direta,linha))\n",
    "            df.loc[linha, propriedade_media+\"_desvio\"] = desvio(calcular_vetor_propriedade_da_linha (propriedade_direta,linha))\n",
    "            \n",
    "            \n",
    "        linha = linha +1\n",
    "        \n",
    "    df.to_excel(\"Input_WebElem_3.xlsx\") \n",
    "    \n",
    "    return atomos\n",
    "\n",
    "\n"
   ]
  },
  {
   "cell_type": "code",
   "execution_count": 45,
   "metadata": {
    "ExecuteTime": {
     "end_time": "2023-03-03T21:02:22.448749Z",
     "start_time": "2023-03-03T21:02:14.771090Z"
    }
   },
   "outputs": [
    {
     "name": "stdout",
     "output_type": "stream",
     "text": [
      "['La', 'Nd', 'Sm', 'Gd', 'Yb', 'Zr', 'O']\n"
     ]
    }
   ],
   "source": [
    "#preeencher_todas_as_linhas\n",
    "\n",
    "print(preencher_linhas (2, 144 +2))\n",
    "\n",
    "##linhas jogadas duas casas para baixo na resposta\n"
   ]
  },
  {
   "cell_type": "code",
   "execution_count": null,
   "metadata": {
    "ExecuteTime": {
     "start_time": "2023-02-04T19:30:26.105Z"
    }
   },
   "outputs": [],
   "source": [
    "import pandas as pd\n",
    "\n",
    "file_name = \"dados_Nomad_colunas_vazias_dft.xlsx\"\n",
    "\n",
    "\n",
    "df = pd.read_excel(file_name) \n",
    "\n",
    "linha = 2\n",
    "linha_final = 600\n",
    "\n",
    "while linha < linha_final +1 :\n",
    "    \n",
    "    for propriedade in propriedades:\n",
    "        \n",
    "        try:\n",
    "        \n",
    "            df.at[linha, propriedade ] = str(calcular (propriedade,linha))\n",
    "        \n",
    "        except:\n",
    "            df.at[linha, propriedade ] = \"None\"\n",
    "            pass\n",
    "        \n",
    "    linha = linha  + 1\n",
    "    \n",
    "    \n",
    "df.to_excel(\"tentativaL.xlsx\") \n"
   ]
  },
  {
   "cell_type": "code",
   "execution_count": null,
   "metadata": {},
   "outputs": [],
   "source": []
  }
 ],
 "metadata": {
  "kernelspec": {
   "display_name": "Python 3",
   "language": "python",
   "name": "python3"
  },
  "language_info": {
   "codemirror_mode": {
    "name": "ipython",
    "version": 3
   },
   "file_extension": ".py",
   "mimetype": "text/x-python",
   "name": "python",
   "nbconvert_exporter": "python",
   "pygments_lexer": "ipython3",
   "version": "3.7.3"
  }
 },
 "nbformat": 4,
 "nbformat_minor": 2
}
